{
 "cells": [
  {
   "cell_type": "code",
   "execution_count": 22,
   "metadata": {},
   "outputs": [],
   "source": [
    "import numpy as np\n",
    "import pandas as pd\n",
    "import matplotlib.pyplot as plt\n",
    "import seaborn as sns"
   ]
  },
  {
   "cell_type": "code",
   "execution_count": 23,
   "metadata": {},
   "outputs": [],
   "source": [
    "# 1. 데이터 로드\n",
    "airbnb_df = pd.read_csv('./data/Airbnb_Open_Data.csv',low_memory=False)"
   ]
  },
  {
   "cell_type": "code",
   "execution_count": null,
   "metadata": {},
   "outputs": [],
   "source": [
    "# 2. 데이터 구조 및 기초 통계 확인\n",
    "# df.head(), df.info(), df.describe()\n",
    "\n",
    "def drop_column(df,column_list):\n",
    "    df = df.dropna(subset=['cancellation_policy', 'neighbourhood', 'Construction year'])\n",
    "    for column_name in column_list:\n",
    "        df = df.drop(column_name,axis=1)\n",
    "    return df"
   ]
  },
  {
   "cell_type": "code",
   "execution_count": null,
   "metadata": {},
   "outputs": [],
   "source": [
    "def cancellation_policy(x):\n",
    "\n",
    "\n",
    "df = df.drop('Cabin', axis=1)\n",
    "df"
   ]
  },
  {
   "cell_type": "code",
   "execution_count": 36,
   "metadata": {},
   "outputs": [],
   "source": [
    "airbnb_df.describe()\n",
    "columns = [\n",
    "    \"host name\",\n",
    "    \"country\",\n",
    "    \"country code\",\n",
    "    \"calculated host listings count\",\n",
    "    \"license\",\n",
    "    \"house_rules\",\n",
    "    \"last review\",\n",
    "    \"instant_bookable\",\n",
    "    \"long\",\n",
    "    \"lat\",\n",
    "    \"neighbourhood group\",\n",
    "    \"NAME\",\n",
    "    \"host id\",\n",
    "    \"host_identity_verified\"\n",
    "]\n",
    "\n",
    "df = drop_column(airbnb_df,columns)"
   ]
  },
  {
   "cell_type": "code",
   "execution_count": 39,
   "metadata": {},
   "outputs": [
    {
     "name": "stdout",
     "output_type": "stream",
     "text": [
      "<class 'pandas.core.frame.DataFrame'>\n",
      "RangeIndex: 102599 entries, 0 to 102598\n",
      "Data columns (total 12 columns):\n",
      " #   Column               Non-Null Count   Dtype  \n",
      "---  ------               --------------   -----  \n",
      " 0   id                   102599 non-null  int64  \n",
      " 1   neighbourhood        102583 non-null  object \n",
      " 2   cancellation_policy  102523 non-null  object \n",
      " 3   room type            102599 non-null  object \n",
      " 4   Construction year    102385 non-null  float64\n",
      " 5   price                102352 non-null  object \n",
      " 6   service fee          102326 non-null  object \n",
      " 7   minimum nights       102190 non-null  float64\n",
      " 8   number of reviews    102416 non-null  float64\n",
      " 9   reviews per month    86720 non-null   float64\n",
      " 10  review rate number   102273 non-null  float64\n",
      " 11  availability 365     102151 non-null  float64\n",
      "dtypes: float64(6), int64(1), object(5)\n",
      "memory usage: 9.4+ MB\n"
     ]
    }
   ],
   "source": [
    "df.info()"
   ]
  },
  {
   "cell_type": "code",
   "execution_count": null,
   "metadata": {},
   "outputs": [
    {
     "data": {
      "text/plain": [
       "np.int64(102523)"
      ]
     },
     "execution_count": 42,
     "metadata": {},
     "output_type": "execute_result"
    }
   ],
   "source": [
    "df.isnull().sum()\n"
   ]
  },
  {
   "cell_type": "code",
   "execution_count": 40,
   "metadata": {},
   "outputs": [
    {
     "data": {
      "text/html": [
       "<div>\n",
       "<style scoped>\n",
       "    .dataframe tbody tr th:only-of-type {\n",
       "        vertical-align: middle;\n",
       "    }\n",
       "\n",
       "    .dataframe tbody tr th {\n",
       "        vertical-align: top;\n",
       "    }\n",
       "\n",
       "    .dataframe thead th {\n",
       "        text-align: right;\n",
       "    }\n",
       "</style>\n",
       "<table border=\"1\" class=\"dataframe\">\n",
       "  <thead>\n",
       "    <tr style=\"text-align: right;\">\n",
       "      <th></th>\n",
       "      <th>id</th>\n",
       "      <th>Construction year</th>\n",
       "      <th>minimum nights</th>\n",
       "      <th>number of reviews</th>\n",
       "      <th>reviews per month</th>\n",
       "      <th>review rate number</th>\n",
       "      <th>availability 365</th>\n",
       "    </tr>\n",
       "  </thead>\n",
       "  <tbody>\n",
       "    <tr>\n",
       "      <th>count</th>\n",
       "      <td>1.025990e+05</td>\n",
       "      <td>102385.000000</td>\n",
       "      <td>102190.000000</td>\n",
       "      <td>102416.000000</td>\n",
       "      <td>86720.000000</td>\n",
       "      <td>102273.000000</td>\n",
       "      <td>102151.000000</td>\n",
       "    </tr>\n",
       "    <tr>\n",
       "      <th>mean</th>\n",
       "      <td>2.914623e+07</td>\n",
       "      <td>2012.487464</td>\n",
       "      <td>8.135845</td>\n",
       "      <td>27.483743</td>\n",
       "      <td>1.374022</td>\n",
       "      <td>3.279106</td>\n",
       "      <td>141.133254</td>\n",
       "    </tr>\n",
       "    <tr>\n",
       "      <th>std</th>\n",
       "      <td>1.625751e+07</td>\n",
       "      <td>5.765556</td>\n",
       "      <td>30.553781</td>\n",
       "      <td>49.508954</td>\n",
       "      <td>1.746621</td>\n",
       "      <td>1.284657</td>\n",
       "      <td>135.435024</td>\n",
       "    </tr>\n",
       "    <tr>\n",
       "      <th>min</th>\n",
       "      <td>1.001254e+06</td>\n",
       "      <td>2003.000000</td>\n",
       "      <td>-1223.000000</td>\n",
       "      <td>0.000000</td>\n",
       "      <td>0.010000</td>\n",
       "      <td>1.000000</td>\n",
       "      <td>-10.000000</td>\n",
       "    </tr>\n",
       "    <tr>\n",
       "      <th>25%</th>\n",
       "      <td>1.508581e+07</td>\n",
       "      <td>2007.000000</td>\n",
       "      <td>2.000000</td>\n",
       "      <td>1.000000</td>\n",
       "      <td>0.220000</td>\n",
       "      <td>2.000000</td>\n",
       "      <td>3.000000</td>\n",
       "    </tr>\n",
       "    <tr>\n",
       "      <th>50%</th>\n",
       "      <td>2.913660e+07</td>\n",
       "      <td>2012.000000</td>\n",
       "      <td>3.000000</td>\n",
       "      <td>7.000000</td>\n",
       "      <td>0.740000</td>\n",
       "      <td>3.000000</td>\n",
       "      <td>96.000000</td>\n",
       "    </tr>\n",
       "    <tr>\n",
       "      <th>75%</th>\n",
       "      <td>4.320120e+07</td>\n",
       "      <td>2017.000000</td>\n",
       "      <td>5.000000</td>\n",
       "      <td>30.000000</td>\n",
       "      <td>2.000000</td>\n",
       "      <td>4.000000</td>\n",
       "      <td>269.000000</td>\n",
       "    </tr>\n",
       "    <tr>\n",
       "      <th>max</th>\n",
       "      <td>5.736742e+07</td>\n",
       "      <td>2022.000000</td>\n",
       "      <td>5645.000000</td>\n",
       "      <td>1024.000000</td>\n",
       "      <td>90.000000</td>\n",
       "      <td>5.000000</td>\n",
       "      <td>3677.000000</td>\n",
       "    </tr>\n",
       "  </tbody>\n",
       "</table>\n",
       "</div>"
      ],
      "text/plain": [
       "                 id  Construction year  minimum nights  number of reviews  \\\n",
       "count  1.025990e+05      102385.000000   102190.000000      102416.000000   \n",
       "mean   2.914623e+07        2012.487464        8.135845          27.483743   \n",
       "std    1.625751e+07           5.765556       30.553781          49.508954   \n",
       "min    1.001254e+06        2003.000000    -1223.000000           0.000000   \n",
       "25%    1.508581e+07        2007.000000        2.000000           1.000000   \n",
       "50%    2.913660e+07        2012.000000        3.000000           7.000000   \n",
       "75%    4.320120e+07        2017.000000        5.000000          30.000000   \n",
       "max    5.736742e+07        2022.000000     5645.000000        1024.000000   \n",
       "\n",
       "       reviews per month  review rate number  availability 365  \n",
       "count       86720.000000       102273.000000     102151.000000  \n",
       "mean            1.374022            3.279106        141.133254  \n",
       "std             1.746621            1.284657        135.435024  \n",
       "min             0.010000            1.000000        -10.000000  \n",
       "25%             0.220000            2.000000          3.000000  \n",
       "50%             0.740000            3.000000         96.000000  \n",
       "75%             2.000000            4.000000        269.000000  \n",
       "max            90.000000            5.000000       3677.000000  "
      ]
     },
     "execution_count": 40,
     "metadata": {},
     "output_type": "execute_result"
    }
   ],
   "source": [
    "df.describe()"
   ]
  },
  {
   "cell_type": "code",
   "execution_count": 43,
   "metadata": {},
   "outputs": [
    {
     "data": {
      "text/plain": [
       "id                         0\n",
       "neighbourhood             16\n",
       "cancellation_policy       76\n",
       "room type                  0\n",
       "Construction year        214\n",
       "price                    247\n",
       "service fee              273\n",
       "minimum nights           409\n",
       "number of reviews        183\n",
       "reviews per month      15879\n",
       "review rate number       326\n",
       "availability 365         448\n",
       "dtype: int64"
      ]
     },
     "execution_count": 43,
     "metadata": {},
     "output_type": "execute_result"
    }
   ],
   "source": [
    "df.isnull().sum()"
   ]
  },
  {
   "cell_type": "code",
   "execution_count": 48,
   "metadata": {},
   "outputs": [
    {
     "ename": "TypeError",
     "evalue": "'>' not supported between instances of 'float' and 'str'",
     "output_type": "error",
     "traceback": [
      "\u001b[0;31m---------------------------------------------------------------------------\u001b[0m",
      "\u001b[0;31mTypeError\u001b[0m                                 Traceback (most recent call last)",
      "Cell \u001b[0;32mIn[48], line 1\u001b[0m\n\u001b[0;32m----> 1\u001b[0m \u001b[38;5;28;43mmax\u001b[39;49m\u001b[43m(\u001b[49m\u001b[43mairbnb_df\u001b[49m\u001b[43m[\u001b[49m\u001b[38;5;124;43m\"\u001b[39;49m\u001b[38;5;124;43mprice\u001b[39;49m\u001b[38;5;124;43m\"\u001b[39;49m\u001b[43m]\u001b[49m\u001b[43m)\u001b[49m\n",
      "\u001b[0;31mTypeError\u001b[0m: '>' not supported between instances of 'float' and 'str'"
     ]
    }
   ],
   "source": []
  },
  {
   "cell_type": "code",
   "execution_count": null,
   "metadata": {},
   "outputs": [],
   "source": []
  }
 ],
 "metadata": {
  "kernelspec": {
   "display_name": "pystudy_env",
   "language": "python",
   "name": "python3"
  },
  "language_info": {
   "codemirror_mode": {
    "name": "ipython",
    "version": 3
   },
   "file_extension": ".py",
   "mimetype": "text/x-python",
   "name": "python",
   "nbconvert_exporter": "python",
   "pygments_lexer": "ipython3",
   "version": "3.12.9"
  }
 },
 "nbformat": 4,
 "nbformat_minor": 2
}
