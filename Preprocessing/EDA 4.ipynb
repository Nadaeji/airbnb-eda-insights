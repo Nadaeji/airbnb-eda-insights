{
 "cells": [
  {
   "cell_type": "code",
   "execution_count": 7,
   "metadata": {},
   "outputs": [],
   "source": [
    "import numpy as np\n",
    "import pandas as pd\n",
    "import matplotlib.pyplot as plt\n",
    "import seaborn as sns"
   ]
  },
  {
   "cell_type": "code",
   "execution_count": 8,
   "metadata": {},
   "outputs": [],
   "source": [
    "# 1. 데이터 로드\n",
    "airbnb_df = pd.read_csv('../data/Airbnb_Open_Data.csv',low_memory=False)"
   ]
  },
  {
   "cell_type": "code",
   "execution_count": 9,
   "metadata": {},
   "outputs": [],
   "source": [
    "# 2. 데이터 구조 및 기초 통계 확인\n",
    "# df.head(), df.info(), df.describe()\n",
    "\n",
    "# def fillna_column(df,column_list):\n",
    "#     for column_name in column_list:\n",
    "#         df = df.drop(column_name,axis=1)\n",
    "#     return df\n",
    "\n",
    "# def update_review_columns(df):\n",
    "#     \"\"\"\n",
    "#     'reviews per month'를 'number of reviews'를 12로 나눈 값으로 대체하고,\n",
    "#     'number of reviews'를 0으로 설정하며, 'review rate number'를 0으로 설정합니다.\n",
    "#     \"\"\"\n",
    "#  3\n",
    "#     if 'number of reviews' in df.columns and 'reviews per month' in df.columns and 'review rate number' in df.columns:\n",
    "#         # 결측치를 0으로 대체\n",
    "#         df['number of reviews'] = df['number of reviews'].fillna(0)\n",
    "        \n",
    "#         # 'reviews per month'의 결측치를 'number of reviews'를 12로 나눈 값으로 대체\n",
    "#         df['reviews per month'] = df['reviews per month'].fillna(df['number of reviews'] / 12)\n",
    "    \n",
    "#     return df\n",
    "\n",
    "def fillna(df,columns,default=0):\n",
    "    for column in columns:\n",
    "        df[column] = df[column].fillna(default)\n",
    "    return df\n",
    "\n"
   ]
  },
  {
   "cell_type": "code",
   "execution_count": null,
   "metadata": {},
   "outputs": [],
   "source": [
    "airbnb_df = fillna(airbnb_df,['number of reviews'],airbnb_df['number of reviews'] / 12)\n",
    "airbnb_df = fillna(airbnb_df,['number of reviews','reviews per month'])"
   ]
  }
 ],
 "metadata": {
  "kernelspec": {
   "display_name": "pystudy_env",
   "language": "python",
   "name": "python3"
  },
  "language_info": {
   "codemirror_mode": {
    "name": "ipython",
    "version": 3
   },
   "file_extension": ".py",
   "mimetype": "text/x-python",
   "name": "python",
   "nbconvert_exporter": "python",
   "pygments_lexer": "ipython3",
   "version": "3.12.9"
  }
 },
 "nbformat": 4,
 "nbformat_minor": 2
}
