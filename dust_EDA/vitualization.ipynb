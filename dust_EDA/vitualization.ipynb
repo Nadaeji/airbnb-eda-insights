{
 "cells": [
  {
   "cell_type": "code",
   "execution_count": 1,
   "metadata": {},
   "outputs": [],
   "source": [
    "import pandas as pd"
   ]
  },
  {
   "cell_type": "code",
   "execution_count": 2,
   "metadata": {},
   "outputs": [
    {
     "data": {
      "text/html": [
       "<div>\n",
       "<style scoped>\n",
       "    .dataframe tbody tr th:only-of-type {\n",
       "        vertical-align: middle;\n",
       "    }\n",
       "\n",
       "    .dataframe tbody tr th {\n",
       "        vertical-align: top;\n",
       "    }\n",
       "\n",
       "    .dataframe thead th {\n",
       "        text-align: right;\n",
       "    }\n",
       "</style>\n",
       "<table border=\"1\" class=\"dataframe\">\n",
       "  <thead>\n",
       "    <tr style=\"text-align: right;\">\n",
       "      <th></th>\n",
       "      <th>Date</th>\n",
       "      <th>City</th>\n",
       "      <th>Longitude</th>\n",
       "      <th>Latitude</th>\n",
       "      <th>PM2.5 (µg/m³)</th>\n",
       "      <th>PM10 (µg/m³)</th>\n",
       "    </tr>\n",
       "  </thead>\n",
       "  <tbody>\n",
       "    <tr>\n",
       "      <th>0</th>\n",
       "      <td>2015-01-01</td>\n",
       "      <td>Seoul</td>\n",
       "      <td>126.9780</td>\n",
       "      <td>37.5665</td>\n",
       "      <td>0.0</td>\n",
       "      <td>0.0</td>\n",
       "    </tr>\n",
       "    <tr>\n",
       "      <th>1</th>\n",
       "      <td>2015-01-01</td>\n",
       "      <td>Tokyo</td>\n",
       "      <td>139.6917</td>\n",
       "      <td>35.6895</td>\n",
       "      <td>0.0</td>\n",
       "      <td>0.0</td>\n",
       "    </tr>\n",
       "    <tr>\n",
       "      <th>2</th>\n",
       "      <td>2015-01-01</td>\n",
       "      <td>Beijing</td>\n",
       "      <td>116.4074</td>\n",
       "      <td>39.9042</td>\n",
       "      <td>0.0</td>\n",
       "      <td>0.0</td>\n",
       "    </tr>\n",
       "    <tr>\n",
       "      <th>3</th>\n",
       "      <td>2015-01-01</td>\n",
       "      <td>Delhi</td>\n",
       "      <td>77.1025</td>\n",
       "      <td>28.7041</td>\n",
       "      <td>0.0</td>\n",
       "      <td>0.0</td>\n",
       "    </tr>\n",
       "    <tr>\n",
       "      <th>4</th>\n",
       "      <td>2015-01-01</td>\n",
       "      <td>Bangkok</td>\n",
       "      <td>100.5018</td>\n",
       "      <td>13.7563</td>\n",
       "      <td>0.0</td>\n",
       "      <td>0.0</td>\n",
       "    </tr>\n",
       "    <tr>\n",
       "      <th>...</th>\n",
       "      <td>...</td>\n",
       "      <td>...</td>\n",
       "      <td>...</td>\n",
       "      <td>...</td>\n",
       "      <td>...</td>\n",
       "      <td>...</td>\n",
       "    </tr>\n",
       "    <tr>\n",
       "      <th>18570</th>\n",
       "      <td>2025-03-10</td>\n",
       "      <td>Seoul</td>\n",
       "      <td>126.9780</td>\n",
       "      <td>37.5665</td>\n",
       "      <td>0.0</td>\n",
       "      <td>0.0</td>\n",
       "    </tr>\n",
       "    <tr>\n",
       "      <th>18571</th>\n",
       "      <td>2025-03-10</td>\n",
       "      <td>Tokyo</td>\n",
       "      <td>139.6917</td>\n",
       "      <td>35.6895</td>\n",
       "      <td>0.0</td>\n",
       "      <td>0.0</td>\n",
       "    </tr>\n",
       "    <tr>\n",
       "      <th>18572</th>\n",
       "      <td>2025-03-10</td>\n",
       "      <td>Beijing</td>\n",
       "      <td>116.4074</td>\n",
       "      <td>39.9042</td>\n",
       "      <td>0.0</td>\n",
       "      <td>0.0</td>\n",
       "    </tr>\n",
       "    <tr>\n",
       "      <th>18573</th>\n",
       "      <td>2025-03-10</td>\n",
       "      <td>Delhi</td>\n",
       "      <td>77.1025</td>\n",
       "      <td>28.7041</td>\n",
       "      <td>0.0</td>\n",
       "      <td>0.0</td>\n",
       "    </tr>\n",
       "    <tr>\n",
       "      <th>18574</th>\n",
       "      <td>2025-03-10</td>\n",
       "      <td>Bangkok</td>\n",
       "      <td>100.5018</td>\n",
       "      <td>13.7563</td>\n",
       "      <td>0.0</td>\n",
       "      <td>0.0</td>\n",
       "    </tr>\n",
       "  </tbody>\n",
       "</table>\n",
       "<p>18575 rows × 6 columns</p>\n",
       "</div>"
      ],
      "text/plain": [
       "             Date     City  Longitude  Latitude  PM2.5 (µg/m³)  PM10 (µg/m³)\n",
       "0      2015-01-01    Seoul   126.9780   37.5665            0.0           0.0\n",
       "1      2015-01-01    Tokyo   139.6917   35.6895            0.0           0.0\n",
       "2      2015-01-01  Beijing   116.4074   39.9042            0.0           0.0\n",
       "3      2015-01-01    Delhi    77.1025   28.7041            0.0           0.0\n",
       "4      2015-01-01  Bangkok   100.5018   13.7563            0.0           0.0\n",
       "...           ...      ...        ...       ...            ...           ...\n",
       "18570  2025-03-10    Seoul   126.9780   37.5665            0.0           0.0\n",
       "18571  2025-03-10    Tokyo   139.6917   35.6895            0.0           0.0\n",
       "18572  2025-03-10  Beijing   116.4074   39.9042            0.0           0.0\n",
       "18573  2025-03-10    Delhi    77.1025   28.7041            0.0           0.0\n",
       "18574  2025-03-10  Bangkok   100.5018   13.7563            0.0           0.0\n",
       "\n",
       "[18575 rows x 6 columns]"
      ]
     },
     "execution_count": 2,
     "metadata": {},
     "output_type": "execute_result"
    }
   ],
   "source": [
    "df = pd.read_csv('./data/pm25_pm10_merged.csv')\n",
    "df"
   ]
  },
  {
   "cell_type": "code",
   "execution_count": 3,
   "metadata": {},
   "outputs": [],
   "source": [
    "import pandas as pd\n",
    "from sklearn.preprocessing import MinMaxScaler\n",
    "\n",
    "# 데이터 로드\n",
    "data = pd.read_csv(\"./data/pm25_pm10_merged.csv\")  # 파일로 저장 후 로드 가정\n",
    "data['Date'] = pd.to_datetime(data['Date'])\n",
    "\n",
    "# 피벗 테이블 생성 (PM2.5)\n",
    "pivot_data = data.pivot(index='Date', columns='City', values='PM2.5 (µg/m³)').reset_index()\n",
    "pivot_data = pivot_data.fillna(0)  # 혹시 결측값이 있으면 0으로 채움"
   ]
  },
  {
   "cell_type": "code",
   "execution_count": 4,
   "metadata": {},
   "outputs": [
    {
     "name": "stdout",
     "output_type": "stream",
     "text": [
      "Correlation Matrix (with zeros):\n",
      "City      Beijing     Seoul     Tokyo     Delhi   Bangkok\n",
      "City                                                     \n",
      "Beijing  1.000000  0.696379  0.485413  0.731261  0.476041\n",
      "Seoul    0.696379  1.000000  0.450368  0.669119  0.251459\n",
      "Tokyo    0.485413  0.450368  1.000000  0.445281  0.327660\n",
      "Delhi    0.731261  0.669119  0.445281  1.000000  0.439126\n",
      "Bangkok  0.476041  0.251459  0.327660  0.439126  1.000000\n"
     ]
    },
    {
     "data": {
      "image/png": "[encoded data removed]",
      "text/plain": [
       "<Figure size 640x480 with 2 Axes>"
      ]
     },
     "metadata": {},
     "output_type": "display_data"
    }
   ],
   "source": [
    "import seaborn as sns\n",
    "import matplotlib.pyplot as plt\n",
    "\n",
    "# 상관 행렬 계산\n",
    "correlation = pivot_data[['Beijing', 'Seoul', 'Tokyo', 'Delhi', 'Bangkok']].corr()\n",
    "print(\"Correlation Matrix (with zeros):\")\n",
    "print(correlation)\n",
    "\n",
    "# 시각화\n",
    "sns.heatmap(correlation, annot=True, cmap='coolwarm')\n",
    "plt.title(\"Correlation between Cities' PM2.5 (with zeros)\")\n",
    "plt.show()"
   ]
  },
  {
   "cell_type": "code",
   "execution_count": 5,
   "metadata": {},
   "outputs": [
    {
     "name": "stdout",
     "output_type": "stream",
     "text": [
      "Mean Squared Error for each city (Seoul, Tokyo, Delhi, Bangkok): [1502.76975962  150.2671935  5392.8436834  1603.63114938]\n"
     ]
    }
   ],
   "source": [
    "from sklearn.linear_model import LinearRegression\n",
    "from sklearn.model_selection import train_test_split\n",
    "from sklearn.metrics import mean_squared_error\n",
    "\n",
    "# 독립 변수(X)와 종속 변수(y) 설정\n",
    "X = pivot_data[['Beijing']]  # 베이징 PM2.5\n",
    "y = pivot_data[['Seoul', 'Tokyo', 'Delhi', 'Bangkok']]  # 다른 도시 PM2.5\n",
    "\n",
    "# 데이터 분할 (훈련/테스트)\n",
    "X_train, X_test, y_train, y_test = train_test_split(X, y, test_size=0.2, random_state=42)\n",
    "\n",
    "# 모델 학습\n",
    "model = LinearRegression()\n",
    "model.fit(X_train, y_train)\n",
    "\n",
    "# 테스트 데이터 예측\n",
    "y_pred = model.predict(X_test)\n",
    "\n",
    "# 성능 평가\n",
    "mse = mean_squared_error(y_test, y_pred, multioutput='raw_values')\n",
    "print(\"Mean Squared Error for each city (Seoul, Tokyo, Delhi, Bangkok):\", mse)"
   ]
  },
  {
   "cell_type": "code",
   "execution_count": 6,
   "metadata": {},
   "outputs": [
    {
     "name": "stdout",
     "output_type": "stream",
     "text": [
      "Predicted PM2.5 for other cities when Beijing PM2.5 = 100 µg/m³:\n",
      "Seoul: 49.06 µg/m³\n",
      "Tokyo: 18.55 µg/m³\n",
      "Delhi: 106.75 µg/m³\n",
      "Bangkok: 36.06 µg/m³\n"
     ]
    },
    {
     "name": "stderr",
     "output_type": "stream",
     "text": [
      "/opt/anaconda3/envs/pystudy_env/lib/python3.12/site-packages/sklearn/utils/validation.py:2739: UserWarning: X does not have valid feature names, but LinearRegression was fitted with feature names\n",
      "  warnings.warn(\n"
     ]
    }
   ],
   "source": [
    "def predict_pm25(beijing_pm25):\n",
    "    input_value = [[beijing_pm25]]\n",
    "    predicted_pm25 = model.predict(input_value)\n",
    "    cities = ['Seoul', 'Tokyo', 'Delhi', 'Bangkok']\n",
    "    return dict(zip(cities, predicted_pm25[0]))\n",
    "\n",
    "# 예시: 베이징 PM2.5 = 100 µg/m³\n",
    "result = predict_pm25(100)\n",
    "print(\"Predicted PM2.5 for other cities when Beijing PM2.5 = 100 µg/m³:\")\n",
    "for city, value in result.items():\n",
    "    print(f\"{city}: {value:.2f} µg/m³\")"
   ]
  },
  {
   "cell_type": "code",
   "execution_count": null,
   "metadata": {},
   "outputs": [],
   "source": []
  }
 ],
 "metadata": {
  "kernelspec": {
   "display_name": "pystudy_env",
   "language": "python",
   "name": "python3"
  },
  "language_info": {
   "codemirror_mode": {
    "name": "ipython",
    "version": 3
   },
   "file_extension": ".py",
   "mimetype": "text/x-python",
   "name": "python",
   "nbconvert_exporter": "python",
   "pygments_lexer": "ipython3",
   "version": "3.12.9"
  }
 },
 "nbformat": 4,
 "nbformat_minor": 2
}
