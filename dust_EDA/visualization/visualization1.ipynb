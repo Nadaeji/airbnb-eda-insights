{
 "cells": [
  {
   "cell_type": "code",
   "execution_count": 5,
   "metadata": {},
   "outputs": [],
   "source": [
    "import pandas as pd\n",
    "import streamlit as st\n",
    "from xgboost import XGBRegressor\n",
    "from sklearn.model_selection import train_test_split, cross_val_score\n",
    "import plotly.express as px\n",
    "import numpy as np"
   ]
  },
  {
   "cell_type": "code",
   "execution_count": 8,
   "metadata": {},
   "outputs": [
    {
     "name": "stderr",
     "output_type": "stream",
     "text": [
      "2025-03-18 23:08:39.893 WARNING streamlit.runtime.caching.cache_data_api: No runtime found, using MemoryCacheStorageManager\n"
     ]
    }
   ],
   "source": [
    "# 데이터 로드 및 전처리\n",
    "@st.cache_data\n",
    "def load_data():\n",
    "    data = pd.read_csv(\"../data/pm25_pm10_merged.csv\")  # 파일 경로 수정 필요\n",
    "    data['Date'] = pd.to_datetime(data['Date'])\n",
    "    data['Month'] = data['Date'].dt.month  # 월 추가\n",
    "    return data"
   ]
  },
  {
   "cell_type": "code",
   "execution_count": 22,
   "metadata": {},
   "outputs": [],
   "source": [
    "# XGBoost 모델 학습 (도시별 모델)\n",
    "def train_model(data):\n",
    "    pivot_data = data.pivot(index='Date', columns='City', values='PM2.5 (µg/m³)').reset_index().fillna(0)\n",
    "    pivot_data['Month'] = data.groupby('Date')['Month'].first().values\n",
    "    \n",
    "    X = pivot_data[['Beijing', 'Month']]  # 입력 변수\n",
    "    target_cities = ['Seoul', 'Tokyo', 'Delhi', 'Bangkok']\n",
    "\n",
    "    # 도시별로 모델 학습\n",
    "    models = {}  # {city: model}\n",
    "    X_tests = {}\n",
    "    y_tests = {}\n",
    "\n",
    "    for city in target_cities:\n",
    "        y = pivot_data[city]  # 단일 열 타겟\n",
    "        if len(X) > 5:\n",
    "            X_train, X_test, y_train, y_test = train_test_split(X, y, test_size=0.2, random_state=42)\n",
    "            model = XGBRegressor(n_estimators=200, learning_rate=0.05, max_depth=3, random_state=42, objective='reg:squarederror')\n",
    "            model.fit(X_train, y_train)\n",
    "            models[city] = model\n",
    "            X_tests[city] = X_test\n",
    "            y_tests[city] = y_test\n",
    "\n",
    "    return models, X_tests, y_tests, pivot_data\n",
    "    "
   ]
  },
  {
   "cell_type": "code",
   "execution_count": 24,
   "metadata": {},
   "outputs": [],
   "source": [
    "# 예측 함수\n",
    "def predict_pm25(models, beijing_pm25, month):\n",
    "    input_value = [[beijing_pm25, month]]\n",
    "    predictions = {}\n",
    "    target_cities = ['Seoul', 'Tokyo', 'Delhi', 'Bangkok']\n",
    "    \n",
    "    for city in target_cities:\n",
    "        predictions[city] = models[city].predict(input_value)[0]\n",
    "    \n",
    "    predictions['Beijing'] = beijing_pm25\n",
    "    return predictions\n"
   ]
  },
  {
   "cell_type": "code",
   "execution_count": 25,
   "metadata": {},
   "outputs": [],
   "source": [
    "# 모델 스코어 계산 (교차 검증 포함)\n",
    "def score_model(models, X_tests, y_tests):\n",
    "    scores = {}\n",
    "    cv_scores = {}\n",
    "    \n",
    "    for city in models.keys():\n",
    "        scores[city] = models[city].score(X_tests[city], y_tests[city])\n",
    "        cv_score = cross_val_score(models[city], X_tests[city], y_tests[city], cv=5, scoring='r2').mean()\n",
    "        cv_scores[city] = cv_score\n",
    "    \n",
    "    return scores, cv_scores"
   ]
  },
  {
   "cell_type": "code",
   "execution_count": 26,
   "metadata": {},
   "outputs": [],
   "source": [
    "# 등급 계산 함수\n",
    "def get_grade(pm25):\n",
    "    if pm25 <= 15:\n",
    "        return \"좋음\", \"green\"\n",
    "    elif pm25 <= 35:\n",
    "        return \"보통\", \"blue\"\n",
    "    elif pm25 <= 75:\n",
    "        return \"나쁨\", \"orange\"\n",
    "    else:\n",
    "        return \"매우 나쁨\", \"red\"\n"
   ]
  },
  {
   "cell_type": "code",
   "execution_count": 27,
   "metadata": {},
   "outputs": [],
   "source": [
    "# 도시 좌표 딕셔너리\n",
    "city_coords = {\n",
    "    'Seoul': (37.5665, 126.978),\n",
    "    'Tokyo': (35.6895, 139.6917),\n",
    "    'Beijing': (39.9042, 116.4074),\n",
    "    'Delhi': (28.7041, 77.1025),\n",
    "    'Bangkok': (13.7563, 100.5018)\n",
    "}"
   ]
  },
  {
   "cell_type": "code",
   "execution_count": null,
   "metadata": {},
   "outputs": [
    {
     "ename": "SyntaxError",
     "evalue": "incomplete input (67702666.py, line 71)",
     "output_type": "error",
     "traceback": [
      "\u001b[1;36m  Cell \u001b[1;32mIn[30], line 71\u001b[1;36m\u001b[0m\n\u001b[1;33m    elif pm25 <= 75:\u001b[0m\n\u001b[1;37m                    ^\u001b[0m\n\u001b[1;31mSyntaxError\u001b[0m\u001b[1;31m:\u001b[0m incomplete input\n"
     ]
    }
   ],
   "source": []
  }
 ],
 "metadata": {
  "kernelspec": {
   "display_name": "pystudy_env",
   "language": "python",
   "name": "python3"
  },
  "language_info": {
   "codemirror_mode": {
    "name": "ipython",
    "version": 3
   },
   "file_extension": ".py",
   "mimetype": "text/x-python",
   "name": "python",
   "nbconvert_exporter": "python",
   "pygments_lexer": "ipython3",
   "version": "3.12.9"
  }
 },
 "nbformat": 4,
 "nbformat_minor": 2
}
