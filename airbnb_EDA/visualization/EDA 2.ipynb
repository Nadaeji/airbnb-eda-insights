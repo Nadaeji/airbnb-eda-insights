{
 "cells": [
  {
   "cell_type": "code",
   "execution_count": 2,
   "metadata": {},
   "outputs": [
    {
     "ename": "",
     "evalue": "",
     "output_type": "error",
     "traceback": [
      "\u001b[1;31mRunning cells with 'Python 3.12.8' requires the ipykernel package.\n",
      "\u001b[1;31mRun the following command to install 'ipykernel' into the Python environment. \n",
      "\u001b[1;31mCommand: 'c:/Users/kicet/.pyenv/pyenv-win/versions/3.12.8/python.exe -m pip install ipykernel -U --force-reinstall'"
     ]
    }
   ],
   "source": [
    "import numpy as np\n",
    "import pandas as pd\n",
    "import matplotlib.pyplot as plt\n",
    "import seaborn as sns\n",
    "from typing import List, Union\n",
    "from sklearn.preprocessing import LabelEncoder\n",
    "import matplotlib.font_manager as fm\n",
    "import matplotlib as mp\n",
    "mp.rc('font',family='AppleGothic')\n",
    "plt.rcParams['axes.unicode_minus'] = False"
   ]
  },
  {
   "cell_type": "code",
   "execution_count": 3,
   "metadata": {},
   "outputs": [],
   "source": [
    "# 1. 데이터 로드\n",
    "airbnb_df = pd.read_csv('../data/Airbnb_Open_Data.csv',low_memory=False)"
   ]
  },
  {
   "cell_type": "code",
   "execution_count": null,
   "metadata": {},
   "outputs": [],
   "source": [
    "# 2. 데이터 구조 및 기초 통계 확인\n",
    "airbnb_df.head()\n"
   ]
  },
  {
   "cell_type": "code",
   "execution_count": null,
   "metadata": {},
   "outputs": [],
   "source": [
    "airbnb_df.info()"
   ]
  },
  {
   "cell_type": "code",
   "execution_count": 6,
   "metadata": {},
   "outputs": [],
   "source": [
    "def drop_column(df,column_list):\n",
    "    for column_name in column_list:\n",
    "        df = df.drop(column_name,axis=1)\n",
    "    return df"
   ]
  },
  {
   "cell_type": "code",
   "execution_count": null,
   "metadata": {},
   "outputs": [],
   "source": [
    "columns = [\n",
    "    \"host name\",\n",
    "    \"country\",\n",
    "    \"country code\",\n",
    "    \"calculated host listings count\",\n",
    "    \"license\",\n",
    "    \"house_rules\",\n",
    "    \"last review\",\n",
    "    \"instant_bookable\",\n",
    "    \"long\",\n",
    "    \"lat\",\n",
    "    # 'neighbourhood',\n",
    "    # \"neighbourhood group\",\n",
    "    \"NAME\",\n",
    "    \"host id\",\n",
    "    \"host_identity_verified\"\n",
    "]\n",
    "\n",
    "airbnb_df = drop_column(airbnb_df,columns)\n",
    "airbnb_df.info()\n"
   ]
  },
  {
   "cell_type": "code",
   "execution_count": null,
   "metadata": {},
   "outputs": [],
   "source": [
    "airbnb_df['cancellation_policy'].unique()"
   ]
  },
  {
   "cell_type": "code",
   "execution_count": 9,
   "metadata": {},
   "outputs": [],
   "source": [
    "airbnb_df['price'] = airbnb_df['price'].replace(r'[\\$,]', '', regex=True).astype(float)\n",
    "airbnb_df['service fee'] = airbnb_df['service fee'].replace(r'[\\$,]', '', regex=True).astype(float)"
   ]
  },
  {
   "cell_type": "code",
   "execution_count": null,
   "metadata": {},
   "outputs": [],
   "source": [
    "airbnb_df.describe()"
   ]
  },
  {
   "cell_type": "code",
   "execution_count": null,
   "metadata": {},
   "outputs": [],
   "source": [
    "airbnb_df.isnull().sum()"
   ]
  },
  {
   "cell_type": "code",
   "execution_count": 12,
   "metadata": {},
   "outputs": [],
   "source": [
    "def fillna(df,columns,default=0):\n",
    "    for column in columns:\n",
    "        df[column] = df[column].fillna(default)\n",
    "    return df\n",
    "\n",
    "def dropna(df,column_list):\n",
    "    df = df.dropna(subset=column_list,axis=0)\n",
    "    return df\n",
    "def change_type(df,columns,type):\n",
    "    for column in columns:\n",
    "        df[column] = df[column].astype(type)\n",
    "    return df\n",
    "def cleaned_data(df: pd.DataFrame, columns: List[str], value: Union[int, float, List[Union[int, float]]], compare_type: str) -> pd.DataFrame:\n",
    "    if not columns:\n",
    "        raise ValueError(\"컬럼 리스트가 비어있습니다.\")\n",
    "    \n",
    "    if compare_type == \"over\":\n",
    "        if not isinstance(value, (int, float)):\n",
    "            raise TypeError(\"value가 숫자가 아닙니다.\")\n",
    "        for column in columns:\n",
    "            df = df[df[column] < value]\n",
    "    elif compare_type == \"under\":\n",
    "        if not isinstance(value, (int, float)):\n",
    "            raise TypeError(\"value가 숫자가 아닙니다.\")\n",
    "        for column in columns:\n",
    "            df = df[df[column] > value]\n",
    "    elif compare_type == \"between\":\n",
    "        if not isinstance(value, (list, tuple)) or len(value) != 2:\n",
    "            raise TypeError(\"value가 리스트 또는 튜플이 아니거나 길이가 2가 아닙니다.\")\n",
    "        lower, upper = value[0], value[1]\n",
    "        for column in columns:\n",
    "            df = df[(df[column] > lower) & (df[column] < upper)]\n",
    "    else:\n",
    "        raise ValueError(f\"Invalid compare_type: {compare_type}. Use 'over', 'under', or 'between'\")\n",
    "    return df\n"
   ]
  },
  {
   "cell_type": "code",
   "execution_count": null,
   "metadata": {},
   "outputs": [],
   "source": [
    "airbnb_df.describe()"
   ]
  },
  {
   "cell_type": "code",
   "execution_count": 14,
   "metadata": {},
   "outputs": [],
   "source": [
    "room_type_avg_price = airbnb_df.groupby('room type')['price'].mean()\n",
    "# 데이터 전처리\n",
    "airbnb_df = fillna(airbnb_df,['price'],airbnb_df['room type'].map(room_type_avg_price))\n",
    "airbnb_df = fillna(airbnb_df,['minimum nights','availability 365'],1)\n",
    "airbnb_df = fillna(airbnb_df,['service fee','number of reviews','review rate number'])\n",
    "airbnb_df = fillna(airbnb_df,['reviews per month'],airbnb_df['review rate number']/12)\n",
    "airbnb_df = dropna(airbnb_df,['Construction year','neighbourhood group','cancellation_policy'])\n",
    "\n",
    "airbnb_df = cleaned_data(airbnb_df,['price'],[50,1000],'between')\n",
    "airbnb_df = cleaned_data(airbnb_df,['availability 365'],[100,365],'between')\n",
    "airbnb_df = cleaned_data(airbnb_df,['number of reviews'],100,'over')\n",
    "airbnb_df = cleaned_data(airbnb_df,['minimum nights'],0,'under')\n",
    "\n",
    "airbnb_df = change_type(airbnb_df,['availability 365','number of reviews','Construction year','price','service fee'],int)\n",
    "airbnb_df['availability 365'] = round((365 - airbnb_df['availability 365']) / 365, 2)\n",
    "airbnb_df['price'] = airbnb_df['price'] * 1400\n",
    "airbnb_df['service fee'] = airbnb_df['service fee'] *1400"
   ]
  },
  {
   "cell_type": "code",
   "execution_count": null,
   "metadata": {},
   "outputs": [],
   "source": [
    "airbnb_df['availability 365'].max()"
   ]
  },
  {
   "cell_type": "code",
   "execution_count": null,
   "metadata": {},
   "outputs": [],
   "source": [
    "airbnb_df.info()\n",
    "airbnb_df.isnull().sum()"
   ]
  },
  {
   "cell_type": "code",
   "execution_count": null,
   "metadata": {},
   "outputs": [],
   "source": [
    "airbnb_df.describe()"
   ]
  },
  {
   "cell_type": "code",
   "execution_count": 18,
   "metadata": {},
   "outputs": [],
   "source": [
    "# Label Encoder 초기화\n",
    "le_neighbourhood = LabelEncoder()\n",
    "le_cancellation = LabelEncoder()\n",
    "le_room_type = LabelEncoder()\n",
    "\n",
    "# 범주형 데이터에 Label Encoding 적용\n",
    "airbnb_df['neighbourhood group'] = le_neighbourhood.fit_transform(airbnb_df['neighbourhood group'])\n",
    "airbnb_df['cancellation_policy'] = le_cancellation.fit_transform(airbnb_df['cancellation_policy'])\n",
    "airbnb_df['room type'] = le_room_type.fit_transform(airbnb_df['room type'])\n",
    "airbnb_df['cancellation_policy'] = 2 - airbnb_df['cancellation_policy']\n",
    "\n",
    "\n"
   ]
  },
  {
   "cell_type": "code",
   "execution_count": null,
   "metadata": {},
   "outputs": [],
   "source": [
    "# 1. 숙소 선호도 관련 변수\n",
    "preference_columns = [\n",
    "    'number of reviews', 'reviews per month', 'review rate number',\n",
    "    'room type', 'neighbourhood group'\n",
    "]\n",
    "df_preference = airbnb_df[preference_columns]\n",
    "\n",
    "# 상관관계 행렬 계산\n",
    "pref_corr_matrix = df_preference.corr()\n",
    "\n",
    "# 첫 번째 히트맵: 숙소 선호도\n",
    "plt.figure(figsize=(10, 6))\n",
    "sns.heatmap(pref_corr_matrix, annot=True, cmap='coolwarm', vmin=-1, vmax=1, center=0)\n",
    "plt.title(\"Heatmap of Airbnb Listing Preference Factors\")\n",
    "plt.show()\n",
    "airbnb_df = airbnb_df.rename(columns={'availability 365': 'booking_rate'})\n",
    "# 2. 예약에 영향을 주는 요소 관련 변수\n",
    "booking_columns = [\n",
    "    'price', 'service fee', 'minimum nights', 'booking_rate',\n",
    "    'cancellation_policy'\n",
    "]\n",
    "df_booking = airbnb_df[booking_columns]\n",
    "\n",
    "# 상관관계 행렬 계산\n",
    "booking_corr_matrix = df_booking.corr()\n",
    "\n",
    "# 두 번째 히트맵: 예약에 영향을 주는 요소\n",
    "plt.figure(figsize=(10, 6))\n",
    "sns.heatmap(booking_corr_matrix, annot=True, cmap='coolwarm', vmin=-1, vmax=1, center=0)\n",
    "plt.title(\"Heatmap of Factors Affecting Airbnb Bookings\")\n",
    "plt.show()"
   ]
  },
  {
   "cell_type": "code",
   "execution_count": null,
   "metadata": {},
   "outputs": [],
   "source": [
    "# Construction year별 평균값 계산\n",
    "yearly_data = airbnb_df.groupby('Construction year').agg({\n",
    "    'price': 'mean',\n",
    "    'booking_rate': 'mean',\n",
    "    'number of reviews': 'mean'\n",
    "}).reset_index()\n",
    "\n",
    "# 서브플롯 생성\n",
    "fig, (ax1, ax2, ax3) = plt.subplots(3, 1, figsize=(12, 10), sharex=True)\n",
    "min_year = int(yearly_data['Construction year'].min())\n",
    "max_year = int(yearly_data['Construction year'].max())\n",
    "# 레이아웃 조정\n",
    "plt.tight_layout()\n",
    "for ax in [ax1, ax2, ax3]:\n",
    "    ax.set_xticks(range(min_year, max_year + 1))\n",
    "\n",
    "# 첫 번째 그래프: 가격\n",
    "sns.lineplot(x='Construction year', y='price', data=yearly_data, ax=ax1, color='blue', marker='o')\n",
    "ax1.set_title('건축 년도에 따른 평균 가격')\n",
    "ax1.set_ylabel('평균 가격 (log)')\n",
    "ax1.grid(True)\n",
    "\n",
    "# 두 번째 그래프: 리뷰 수\n",
    "sns.lineplot(x='Construction year', y='number of reviews', data=yearly_data, ax=ax3, color='green', marker='o')\n",
    "ax3.set_title('건축 년도에 따른 리뷰수')\n",
    "ax3.set_xlabel('건축 년도')\n",
    "ax3.set_ylabel('리뷰 수')\n",
    "ax3.grid(True)\n",
    "\n",
    "# 세 번째 그래프: 예약율\n",
    "sns.lineplot(x='Construction year', y='booking_rate', data=yearly_data, ax=ax2, color='orange', marker='o')\n",
    "ax2.set_title('건축 년도에 예약율')\n",
    "ax2.set_ylabel('예약 율')\n",
    "ax2.grid(True)\n",
    "\n",
    "\n",
    "# 레이아웃 조정\n",
    "plt.tight_layout()\n",
    "plt.show()"
   ]
  },
  {
   "cell_type": "code",
   "execution_count": null,
   "metadata": {},
   "outputs": [],
   "source": [
    "# neighbourhood group, room type, Construction year별 평균 계산\n",
    "def calculate_grouped_stats_with_outliers(df, use_median=False, iqr_factor=1.5):\n",
    "    df['log_price'] = np.log1p(df['price'])  # 로그 변환\n",
    "    \n",
    "    # booking_rate가 0~1 사이의 값인 경우 10% 단위 구간 생성\n",
    "    bins = np.arange(0, 1.1, 0.1)  # 0, 0.1, 0.2, ... 1.0\n",
    "    labels = [f\"{int(b*100)}-{int((b+0.1)*100)}%\" for b in bins[:-1]]\n",
    "    df['booking_rate_bucket'] = pd.cut(df['booking_rate'], bins=bins, labels=labels, right=False)\n",
    "    \n",
    "    grouped_stats = []\n",
    "    \n",
    "    # groupby에 booking_rate_bucket 추가\n",
    "    for (year, nb_group, room_type, booking_rate_bucket), group in df.groupby(['Construction year', 'neighbourhood group', 'room type', 'booking_rate_bucket']):\n",
    "        \n",
    "        if use_median:\n",
    "            price_stat = group['price'].median()\n",
    "        else:\n",
    "            price_stat = group['price'].mean()\n",
    "        \n",
    "        group_mean = {\n",
    "            'Construction year': year,\n",
    "            'neighbourhood group': nb_group,\n",
    "            'room type': room_type,\n",
    "            'booking_rate_bucket': booking_rate_bucket,\n",
    "            'price': price_stat,\n",
    "            'booking_rate': group['booking_rate'].mean()\n",
    "        }\n",
    "        grouped_stats.append(group_mean)\n",
    "    \n",
    "    return pd.DataFrame(grouped_stats)\n",
    "\n",
    "\n",
    "# 데이터에 적용\n",
    "grouped_data = calculate_grouped_stats_with_outliers(airbnb_df, use_median=False, iqr_factor=2.0)\n",
    "\n",
    "\n",
    "# 히트맵: 지역과 숙소 종류별 평균 가격\n",
    "pivot_table = grouped_data.pivot_table(values='price', index='neighbourhood group', \n",
    "                                       columns='room type', aggfunc='mean')\n",
    "plt.figure(figsize=(10, 6))\n",
    "sns.heatmap(pivot_table, annot=True, fmt='.0f', cmap='YlGnBu')\n",
    "plt.xlabel('숙소 타입')\n",
    "plt.ylabel('지역구')\n",
    "plt.title('Mean Price by Neighbourhood Group and Room Type')\n",
    "plt.show()"
   ]
  },
  {
   "cell_type": "code",
   "execution_count": null,
   "metadata": {},
   "outputs": [],
   "source": [
    "# 히트맵: neighbourhood group과 room type별 평균 가격\n",
    "pivot_table = grouped_data.pivot_table(values='price', index='room type', \n",
    "                                       columns='booking_rate_bucket', aggfunc='mean')\n",
    "plt.figure(figsize=(12,6))\n",
    "sns.heatmap(pivot_table, annot=True, fmt='.0f', cmap='YlGnBu')\n",
    "plt.xlabel('예약율')\n",
    "plt.ylabel('가격')\n",
    "plt.title('Mean Price by Neighbourhood Group and Room Type')\n",
    "plt.show()"
   ]
  }
 ],
 "metadata": {
  "kernelspec": {
   "display_name": "Python 3",
   "language": "python",
   "name": "python3"
  },
  "language_info": {
   "codemirror_mode": {
    "name": "ipython",
    "version": 3
   },
   "file_extension": ".py",
   "mimetype": "text/x-python",
   "name": "python",
   "nbconvert_exporter": "python",
   "pygments_lexer": "ipython3",
   "version": "3.12.8"
  }
 },
 "nbformat": 4,
 "nbformat_minor": 2
}
